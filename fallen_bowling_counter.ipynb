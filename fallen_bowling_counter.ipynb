{
  "nbformat": 4,
  "nbformat_minor": 0,
  "metadata": {
    "colab": {
      "name": "fallen_bowling_counter.ipynb",
      "provenance": [],
      "collapsed_sections": [],
      "authorship_tag": "ABX9TyMcXmLVoqWCj9Zh72K4eG56",
      "include_colab_link": true
    },
    "kernelspec": {
      "name": "python3",
      "display_name": "Python 3"
    },
    "language_info": {
      "name": "python"
    }
  },
  "cells": [
    {
      "cell_type": "markdown",
      "metadata": {
        "id": "view-in-github",
        "colab_type": "text"
      },
      "source": [
        "<a href=\"https://colab.research.google.com/github/vasconce1o/fallen-bowling-counter/blob/main/fallen_bowling_counter.ipynb\" target=\"_parent\"><img src=\"https://colab.research.google.com/assets/colab-badge.svg\" alt=\"Open In Colab\"/></a>"
      ]
    },
    {
      "cell_type": "markdown",
      "source": [
        "# Fallen bowling counter\n",
        "\n"
      ],
      "metadata": {
        "id": "2KrERJuzjGab"
      }
    },
    {
      "cell_type": "code",
      "execution_count": 60,
      "metadata": {
        "colab": {
          "base_uri": "https://localhost:8080/",
          "height": 212
        },
        "id": "0U-h60uXxMS7",
        "outputId": "50928b44-1922-45ca-de21-ade7b98a33c2"
      },
      "outputs": [
        {
          "output_type": "stream",
          "name": "stdout",
          "text": [
            "Drive already mounted at /content/gdrive; to attempt to forcibly remount, call drive.mount(\"/content/gdrive\", force_remount=True).\n"
          ]
        },
        {
          "output_type": "display_data",
          "data": {
            "image/png": "[encoded data removed]",
            "text/plain": [
              "<PIL.Image.Image image mode=RGB size=220x40 at 0x7F422DBA57D0>"
            ]
          },
          "metadata": {}
        },
        {
          "output_type": "display_data",
          "data": {
            "image/png": "[encoded data removed]",
            "text/plain": [
              "<PIL.Image.Image image mode=L size=220x40 at 0x7F422DBA5D50>"
            ]
          },
          "metadata": {}
        },
        {
          "output_type": "display_data",
          "data": {
            "image/png": "[encoded data removed]",
            "text/plain": [
              "<PIL.Image.Image image mode=L size=220x40 at 0x7F422D56D510>"
            ]
          },
          "metadata": {}
        },
        {
          "output_type": "display_data",
          "data": {
            "image/png": "[encoded data removed]",
            "text/plain": [
              "<PIL.Image.Image image mode=RGB size=220x40 at 0x7F422D56D510>"
            ]
          },
          "metadata": {}
        },
        {
          "output_type": "stream",
          "name": "stdout",
          "text": [
            "10\n"
          ]
        }
      ],
      "source": [
        "import cv2\n",
        "import random as rng\n",
        "import numpy as np\n",
        "from matplotlib import pyplot as plt\n",
        "\n",
        "# Código específico para Google Colab\n",
        "from google.colab.patches import cv2_imshow\n",
        "from google.colab import drive\n",
        "drive.mount('/content/gdrive')\n",
        "\n",
        "# Lectura de la imagén\n",
        "# Y recorte de la parte de arriba de los bolos,\n",
        "# de manera que si no existen estas partes es porque \n",
        "# el bolo fue derribado.\n",
        "\n",
        "img = cv2.imread(\"/content/gdrive/MyDrive/Colab Notebooks/fallen_bowling_counter/bowling.jpg\") \n",
        "# crop = img[Y:Y+H, X:X+W]\n",
        "crop = img[90:130, 110:330]\n",
        "h, w, c = crop.shape\n",
        "crop_area = h*w\n",
        "min_area = crop_area*0.005\n",
        "max_area = crop_area*0.05\n",
        "\n",
        "gray = cv2.cvtColor(crop, cv2.COLOR_BGR2GRAY)\n",
        "gray = cv2.GaussianBlur(gray,(3,3),0)\n",
        "thresh = cv2.adaptiveThreshold(gray,255,cv2.ADAPTIVE_THRESH_MEAN_C, cv2.THRESH_BINARY,11,2)\n",
        "cnts, hierarchy = cv2.findContours(thresh, cv2.RETR_TREE, cv2.CHAIN_APPROX_SIMPLE)\n",
        "\n",
        "# Remove small noise by filtering using contour area and count\n",
        "bowling_counter = 0\n",
        "drawing = np.zeros((h, w, 3), dtype=np.uint8)\n",
        "for i in range(len(cnts)):\n",
        "  area = cv2.contourArea(cnts[i])\n",
        "  if max_area > area > min_area :\n",
        "    bowling_counter+=1\n",
        "    color = (rng.randint(0,256), rng.randint(0,256), rng.randint(0,256))\n",
        "    cv2.drawContours(drawing, cnts, i, color, 2, cv2.LINE_8, hierarchy, 0)\n",
        "\n",
        "\n",
        "cv2_imshow(crop)\n",
        "cv2_imshow(gray)\n",
        "cv2_imshow(thresh)\n",
        "cv2_imshow(drawing)\n",
        "print(bowling_counter)\n"
      ]
    }
  ]
}